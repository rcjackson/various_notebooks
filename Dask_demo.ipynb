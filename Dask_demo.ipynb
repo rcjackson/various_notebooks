{
 "cells": [
  {
   "cell_type": "code",
   "execution_count": 1,
   "metadata": {},
   "outputs": [],
   "source": [
    "## Example month mean notebook CPOL"
   ]
  },
  {
   "cell_type": "code",
   "execution_count": 1,
   "metadata": {},
   "outputs": [
    {
     "name": "stdout",
     "output_type": "stream",
     "text": [
      "\n",
      "## You are using the Python ARM Radar Toolkit (Py-ART), an open source\n",
      "## library for working with weather radar data. Py-ART is partly\n",
      "## supported by the U.S. Department of Energy as part of the Atmospheric\n",
      "## Radiation Measurement (ARM) Climate Research Facility, an Office of\n",
      "## Science user facility.\n",
      "##\n",
      "## If you use this software to prepare a publication, please cite:\n",
      "##\n",
      "##     JJ Helmus and SM Collis, JORS 2016, doi: 10.5334/jors.119\n",
      "\n"
     ]
    },
    {
     "name": "stderr",
     "output_type": "stream",
     "text": [
      "/home/rjackson/.local/lib/python3.6/site-packages/pyart/graph/cm.py:104: FutureWarning: elementwise comparison failed; returning scalar instead, but in the future will perform elementwise comparison\n",
      "  if 'red' in spec:\n",
      "/home/rjackson/.local/lib/python3.6/site-packages/pyart/graph/cm_colorblind.py:32: FutureWarning: elementwise comparison failed; returning scalar instead, but in the future will perform elementwise comparison\n",
      "  if 'red' in spec:\n",
      "/home/rjackson/anaconda3/envs/pyart-2018/lib/python3.6/importlib/_bootstrap.py:219: RuntimeWarning: numpy.dtype size changed, may indicate binary incompatibility. Expected 96, got 88\n",
      "  return f(*args, **kwds)\n"
     ]
    },
    {
     "name": "stdout",
     "output_type": "stream",
     "text": [
      "Populating the interactive namespace from numpy and matplotlib\n"
     ]
    },
    {
     "name": "stderr",
     "output_type": "stream",
     "text": [
      "/home/rjackson/anaconda3/envs/pyart-2018/lib/python3.6/importlib/_bootstrap.py:219: RuntimeWarning: numpy.dtype size changed, may indicate binary incompatibility. Expected 96, got 88\n",
      "  return f(*args, **kwds)\n"
     ]
    }
   ],
   "source": [
    "from dask_jobqueue import SLURMCluster\n",
    "import dask.array as da\n",
    "from dask import delayed\n",
    "import pyart\n",
    "import glob\n",
    "from distributed import Client\n",
    "%pylab inline\n",
    "import pandas as pd\n",
    "import dask.bag as db\n",
    "import dask.array as da\n",
    "from dask import delayed\n",
    "from datetime import timedelta\n",
    "import xarray as xr"
   ]
  },
  {
   "cell_type": "code",
   "execution_count": 2,
   "metadata": {},
   "outputs": [],
   "source": [
    "def get_rainfall_rate(filename, level=3):\n",
    "    grid = pyart.io.read_grid(filename, include_fields=\"radar_estimated_rain_rate\")\n",
    "    rr = grid.fields[\"radar_estimated_rain_rate\"][\"data\"][level]\n",
    "    del grid\n",
    "    return rr.filled(0)\n",
    "\n",
    "def get_mean_rr_rate_in_box(filename, level=3):\n",
    "    grid = pyart.io.read_grid(filename, include_fields=\"radar_estimated_rain_rate\")\n",
    "    rr = grid.fields[\"radar_estimated_rain_rate\"][\"data\"][level].filled(np.nan)\n",
    "    x = grid.point_x[\"data\"][level]\n",
    "    y = grid.point_y[\"data\"][level]\n",
    "    # X range of box 1 -105000.0 47500.0\n",
    "    # Y range of box 1 -122500.0 32500.0\n",
    "    our_box = np.logical_and.reduce((x >= -105000., x <= 47500.0, y >= -122500., y <= 32500.))\n",
    "    return np.nanmean(rr[our_box])\n",
    "\n",
    "def get_file_time(filename):\n",
    "    our_parts = filename.split(\"/\")\n",
    "    return datetime.datetime.strptime(our_parts[-1], \"twp10cpolgrid150.b2.%Y%m%d.%H%M%S.nc\")\n",
    "\n"
   ]
  },
  {
   "cell_type": "code",
   "execution_count": 3,
   "metadata": {},
   "outputs": [],
   "source": [
    "list_of_files = glob.glob('/lcrc/group/earthscience/rjackson/CPOL/grid_150km_2500m/**/*.nc', recursive=True)\n",
    "list_of_files = sorted(list_of_files)\n",
    "file_times = np.array([get_file_time(x) for x in list_of_files])"
   ]
  },
  {
   "cell_type": "code",
   "execution_count": 4,
   "metadata": {},
   "outputs": [
    {
     "name": "stderr",
     "output_type": "stream",
     "text": [
      "/blues/gpfs/home/rjackson/anaconda3/envs/yt_devel/lib/python3.6/site-packages/tornado/concurrent.py:521: DeprecationWarning: @return_future is deprecated, use coroutines instead\n",
      "  DeprecationWarning)\n"
     ]
    }
   ],
   "source": [
    "cluster = SLURMCluster(time='1:00:00', processes=6, cores=36, memory='128 GB', project='rainfall')\n",
    "cluster.scale(6)"
   ]
  },
  {
   "cell_type": "code",
   "execution_count": 5,
   "metadata": {},
   "outputs": [],
   "source": [
    "client = Client(cluster)"
   ]
  },
  {
   "cell_type": "code",
   "execution_count": 11,
   "metadata": {},
   "outputs": [
    {
     "data": {
      "text/html": [
       "<table style=\"border: 2px solid white;\">\n",
       "<tr>\n",
       "<td style=\"vertical-align: top; border: 0px solid white\">\n",
       "<h3>Client</h3>\n",
       "<ul>\n",
       "  <li><b>Scheduler: </b>tcp://140.221.70.5:40261\n",
       "  <li><b>Dashboard: </b><a href='http://140.221.70.5:36695/status' target='_blank'>http://140.221.70.5:36695/status</a>\n",
       "</ul>\n",
       "</td>\n",
       "<td style=\"vertical-align: top; border: 0px solid white\">\n",
       "<h3>Cluster</h3>\n",
       "<ul>\n",
       "  <li><b>Workers: </b>6</li>\n",
       "  <li><b>Cores: </b>36</li>\n",
       "  <li><b>Memory: </b>127.98 GB</li>\n",
       "</ul>\n",
       "</td>\n",
       "</tr>\n",
       "</table>"
      ],
      "text/plain": [
       "<Client: scheduler='tcp://140.221.70.5:40261' processes=0 cores=0>"
      ]
     },
     "execution_count": 11,
     "metadata": {},
     "output_type": "execute_result"
    }
   ],
   "source": [
    "client"
   ]
  },
  {
   "cell_type": "code",
   "execution_count": 157,
   "metadata": {},
   "outputs": [],
   "source": [
    "cluster.scale(6)"
   ]
  },
  {
   "cell_type": "code",
   "execution_count": 14,
   "metadata": {},
   "outputs": [
    {
     "data": {
      "text/plain": [
       "array([datetime.datetime(1998, 12, 6, 6, 30),\n",
       "       datetime.datetime(1998, 12, 6, 6, 40),\n",
       "       datetime.datetime(1998, 12, 6, 6, 50), ...,\n",
       "       datetime.datetime(2017, 5, 2, 0, 40),\n",
       "       datetime.datetime(2017, 5, 2, 0, 50),\n",
       "       datetime.datetime(2017, 5, 2, 1, 0)], dtype=object)"
      ]
     },
     "execution_count": 14,
     "metadata": {},
     "output_type": "execute_result"
    }
   ],
   "source": [
    "file_times"
   ]
  },
  {
   "cell_type": "code",
   "execution_count": 18,
   "metadata": {},
   "outputs": [],
   "source": [
    "cluster.stop_all_jobs()"
   ]
  },
  {
   "cell_type": "code",
   "execution_count": 13,
   "metadata": {},
   "outputs": [],
   "source": [
    "grid1 = pyart.io.read_grid(list_of_files[0])\n",
    "x = grid1.point_x[\"data\"][1]\n",
    "y = grid1.point_y[\"data\"][1]\n",
    "rr = grid1.fields[\"radar_estimated_rain_rate\"][\"data\"][1]\n",
    "z = grid1.z[\"data\"]\n",
    "grid_lat = grid1.point_latitude[\"data\"]\n",
    "grid_lon = grid1.point_longitude[\"data\"]"
   ]
  },
  {
   "cell_type": "code",
   "execution_count": 11,
   "metadata": {},
   "outputs": [],
   "source": [
    "rr_rate = delayed(get_rainfall_rate)\n",
    "rrs = [da.from_delayed(rr_rate(x), shape=rr.shape, dtype=float) for x in list_of_files[:300]]\n",
    "rrs = da.stack(rrs)\n",
    "rrs = da.nanmean(rrs, axis=0)"
   ]
  },
  {
   "cell_type": "code",
   "execution_count": 12,
   "metadata": {},
   "outputs": [
    {
     "name": "stdout",
     "output_type": "stream",
     "text": [
      "CPU times: user 3.56 s, sys: 330 ms, total: 3.89 s\n",
      "Wall time: 40.4 s\n"
     ]
    }
   ],
   "source": [
    "%time rrate = rrs.compute()"
   ]
  },
  {
   "cell_type": "code",
   "execution_count": 17,
   "metadata": {},
   "outputs": [
    {
     "data": {
      "text/plain": [
       "<matplotlib.colorbar.Colorbar at 0x2b6d51045470>"
      ]
     },
     "execution_count": 17,
     "metadata": {},
     "output_type": "execute_result"
    },
    {
     "data": {
      "image/png": "[encoded data removed]",
      "text/plain": [
       "<Figure size 432x288 with 2 Axes>"
      ]
     },
     "metadata": {},
     "output_type": "display_data"
    }
   ],
   "source": [
    "plt.pcolormesh(rrate)\n",
    "plt.colorbar(label = \"Rainfall rate mm/hr\")"
   ]
  },
  {
   "cell_type": "code",
   "execution_count": null,
   "metadata": {},
   "outputs": [],
   "source": [
    "rr_rate = delayed(get_rainfall_rate)\n",
    "rrs = [da.from_delayed(rr_rate(x), shape=rr.shape, dtype=float) for x in list_of_files[:1100]]\n",
    "rrs = da.stack(rrs)\n",
    "%time rrs = rrs.compute()"
   ]
  },
  {
   "cell_type": "code",
   "execution_count": null,
   "metadata": {},
   "outputs": [],
   "source": [
    "plt.figure(figsize=(15,6))\n",
    "plt.scatter(file_times[:1100], rrs[:1100, 80, 80])\n",
    "plt.xlim([file_times[0], file_times[600]])\n",
    "plt.xlabel(\"Time\")\n",
    "plt.ylabel(\"Rainfall rate\")"
   ]
  },
  {
   "cell_type": "code",
   "execution_count": null,
   "metadata": {},
   "outputs": [],
   "source": []
  }
 ],
 "metadata": {
  "kernelspec": {
   "display_name": "Python [conda env:pyart-2018]",
   "language": "python",
   "name": "conda-env-pyart-2018-py"
  },
  "language_info": {
   "codemirror_mode": {
    "name": "ipython",
    "version": 3
   },
   "file_extension": ".py",
   "mimetype": "text/x-python",
   "name": "python",
   "nbconvert_exporter": "python",
   "pygments_lexer": "ipython3",
   "version": "3.6.7"
  }
 },
 "nbformat": 4,
 "nbformat_minor": 2
}
